{
 "cells": [
  {
   "cell_type": "markdown",
   "metadata": {},
   "source": [
    "# Project: Build a Traffic Sign Recognition Classifier"
   ]
  },
  {
   "cell_type": "markdown",
   "metadata": {},
   "source": [
    "---\n",
    "## Step 0: Load The Data"
   ]
  },
  {
   "cell_type": "code",
   "execution_count": 228,
   "metadata": {},
   "outputs": [],
   "source": [
    "# Load pickled data\n",
    "import pickle\n",
    "# import numpy as np\n",
    "\n",
    "# Read in data for training, validation and testing\n",
    "training_file = 'train.p'\n",
    "validation_file = 'valid.p'\n",
    "testing_file = 'test.p'\n",
    "\n",
    "with open(training_file, mode='rb') as f:\n",
    "    train = pickle.load(f)\n",
    "with open(validation_file, mode='rb') as f:\n",
    "    valid = pickle.load(f)\n",
    "with open(testing_file, mode='rb') as f:\n",
    "    test = pickle.load(f)\n",
    "    \n",
    "X_train, y_train = train['features'], train['labels']\n",
    "X_valid, y_valid = valid['features'], valid['labels']\n",
    "X_test, y_test = test['features'], test['labels']"
   ]
  },
  {
   "cell_type": "markdown",
   "metadata": {},
   "source": [
    "---\n",
    "\n",
    "## Step 1: Dataset Summary & Exploration\n",
    "\n",
    "The pickled data is a dictionary with 4 key/value pairs:\n",
    "\n",
    "- `'features'` is a 4D array containing raw pixel data of the traffic sign images, (num examples, width, height, channels).\n",
    "- `'labels'` is a 1D array containing the label/class id of the traffic sign. The file `signnames.csv` contains id -> name mappings for each id.\n",
    "- `'sizes'` is a list containing tuples, (width, height) representing the original width and height of the image.\n",
    "- `'coords'` is a list containing tuples, (x1, y1, x2, y2) representing coordinates of a bounding box around the sign in the image. **THESE COORDINATES ASSUME THE ORIGINAL IMAGE. THE PICKLED DATA CONTAINS RESIZED VERSIONS (32 by 32) OF THESE IMAGES**"
   ]
  },
  {
   "cell_type": "markdown",
   "metadata": {},
   "source": [
    "### Basic Summary of the Data Set"
   ]
  },
  {
   "cell_type": "code",
   "execution_count": 229,
   "metadata": {},
   "outputs": [
    {
     "name": "stdout",
     "output_type": "stream",
     "text": [
      "Number of training examples = 34799\n",
      "Number of validation examples = 4410\n",
      "Number of testing examples = 12630\n",
      "Image data shape = (32, 32, 3)\n",
      "Number of classes = 43\n"
     ]
    }
   ],
   "source": [
    "### Replace each question mark with the appropriate value. \n",
    "### Use python, pandas or numpy methods rather than hard coding the results\n",
    "\n",
    "# Number of training examples\n",
    "n_train = len(X_train)\n",
    "\n",
    "# Number of validation examples\n",
    "n_valid = len(X_valid)\n",
    "\n",
    "# Number of testing examples\n",
    "n_test = len(X_test)\n",
    "\n",
    "# Shape of traffic sign image\n",
    "image_shape = X_train[0].shape\n",
    "\n",
    "# How many unique classes/labels there are in the dataset\n",
    "n_classes = max(y_train) + 1\n",
    "\n",
    "print(\"Number of training examples =\", n_train)\n",
    "print(\"Number of validation examples =\", n_valid)\n",
    "print(\"Number of testing examples =\", n_test)\n",
    "print(\"Image data shape =\", image_shape)\n",
    "print(\"Number of classes =\", n_classes)"
   ]
  },
  {
   "cell_type": "markdown",
   "metadata": {},
   "source": [
    "### Exploratory visualization of the Data Set"
   ]
  },
  {
   "cell_type": "code",
   "execution_count": 230,
   "metadata": {},
   "outputs": [],
   "source": [
    "### Data exploration visualization code goes here.\n",
    "### Feel free to use as many code cells as needed.\n",
    "import matplotlib.pyplot as plt\n",
    "import random\n",
    "import numpy as np\n",
    "\n",
    "# Visualizations will be shown in the notebook\n",
    "%matplotlib inline\n",
    "\n",
    "signs = {}\n",
    "\n",
    "import csv\n",
    "with open('signnames.csv', newline='') as csvfile:\n",
    "    spamreader = csv.reader(csvfile, delimiter=',')\n",
    "    for row in spamreader:\n",
    "        if row[0] == 'ClassId': \n",
    "            pass\n",
    "        else:\n",
    "            signs[int(row[0])] = row[1]"
   ]
  },
  {
   "cell_type": "code",
   "execution_count": 231,
   "metadata": {},
   "outputs": [
    {
     "data": {
      "image/png": "[encoded data removed]",
      "text/plain": [
       "<Figure size 1080x360 with 1 Axes>"
      ]
     },
     "metadata": {
      "needs_background": "light"
     },
     "output_type": "display_data"
    },
    {
     "data": {
      "image/png": "[encoded data removed]",
      "text/plain": [
       "<Figure size 1080x360 with 1 Axes>"
      ]
     },
     "metadata": {
      "needs_background": "light"
     },
     "output_type": "display_data"
    },
    {
     "data": {
      "image/png": "[encoded data removed]",
      "text/plain": [
       "<Figure size 1080x360 with 1 Axes>"
      ]
     },
     "metadata": {
      "needs_background": "light"
     },
     "output_type": "display_data"
    }
   ],
   "source": [
    "hist_train = []\n",
    "hist_valid = []\n",
    "hist_test = []\n",
    "\n",
    "for key in signs.keys():\n",
    "    hist_train.append((y_train == key).sum())\n",
    "    hist_valid.append((y_valid == key).sum())\n",
    "    hist_test.append((y_test == key).sum())\n",
    "\n",
    "# Training data\n",
    "plt.figure(figsize=(15,5))\n",
    "plt.bar(signs.keys(), hist_train)\n",
    "plt.xticks(np.arange(0, n_classes, step=1))\n",
    "# plt.bar(signs.values(), hist_train)\n",
    "# plt.xticks(np.arange(0, n_classes, step=1), rotation='vertical')\n",
    "plt.grid(True)\n",
    "plt.savefig(\"examples/training_data.jpg\")\n",
    "plt.show()\n",
    "\n",
    "# Validation data\n",
    "plt.figure(figsize=(15,5))\n",
    "plt.bar(signs.keys(), hist_valid)\n",
    "plt.xticks(np.arange(0, n_classes, step=1))\n",
    "plt.grid(True)\n",
    "plt.savefig(\"examples/validation_data.jpg\")\n",
    "plt.show()\n",
    "\n",
    "# Test data\n",
    "plt.figure(figsize=(15,5))\n",
    "plt.bar(signs.keys(), hist_test)\n",
    "plt.xticks(np.arange(0, n_classes, step=1))\n",
    "plt.grid(True)\n",
    "plt.savefig(\"examples/test_data.jpg\")\n",
    "plt.show()"
   ]
  },
  {
   "cell_type": "code",
   "execution_count": 232,
   "metadata": {},
   "outputs": [],
   "source": [
    "def get_index_by_label(label, y):\n",
    "    for index in range(len(y)):\n",
    "        if y[index] == label:\n",
    "            return index\n",
    "    return 0"
   ]
  },
  {
   "cell_type": "code",
   "execution_count": 233,
   "metadata": {},
   "outputs": [
    {
     "data": {
      "text/plain": [
       "<matplotlib.image.AxesImage at 0x124075cc0>"
      ]
     },
     "execution_count": 233,
     "metadata": {},
     "output_type": "execute_result"
    },
    {
     "data": {
      "image/png": "[encoded data removed]",
      "text/plain": [
       "<Figure size 72x72 with 1 Axes>"
      ]
     },
     "metadata": {
      "needs_background": "light"
     },
     "output_type": "display_data"
    }
   ],
   "source": [
    "# index = random.randint(0, len(X_train))\n",
    "index = get_index_by_label(19, y_train)\n",
    "image = X_train[index]\n",
    "\n",
    "plt.figure(figsize=(1,1))\n",
    "plt.imshow(image, cmap=\"gray\")\n",
    "\n",
    "# plt.style.use('seaborn') # pretty matplotlib plots\n",
    "# plt.rcParams['figure.figsize'] = (12, 8)"
   ]
  },
  {
   "cell_type": "markdown",
   "metadata": {},
   "source": [
    "----\n",
    "\n",
    "## Step 2: Design and Test Model Architecture\n",
    "\n",
    "The architecture for the model used is derived from the LeNet-5 architecture."
   ]
  },
  {
   "cell_type": "markdown",
   "metadata": {},
   "source": [
    "### Preprocess the Data Set"
   ]
  },
  {
   "cell_type": "markdown",
   "metadata": {},
   "source": [
    "The data is normalized using `X_norm = (X - 128)/ 128`."
   ]
  },
  {
   "cell_type": "code",
   "execution_count": 234,
   "metadata": {},
   "outputs": [],
   "source": [
    "# Normalize - only execute once!\n",
    "X_train = (X_train - 128.0) / 128\n",
    "X_valid = (X_valid - 128.0) / 128\n",
    "X_test = (X_test - 128.0) / 128"
   ]
  },
  {
   "cell_type": "code",
   "execution_count": 235,
   "metadata": {},
   "outputs": [
    {
     "data": {
      "image/png": "[encoded data removed]",
      "text/plain": [
       "<Figure size 576x288 with 1 Axes>"
      ]
     },
     "metadata": {
      "needs_background": "light"
     },
     "output_type": "display_data"
    }
   ],
   "source": [
    "# Plot distribution of pixel values of normalized\n",
    "image = X_train[0]\n",
    "image = image.flatten()\n",
    "\n",
    "plt.figure(figsize=(8,4))\n",
    "n, bins, patches = plt.hist(image, bins=255)\n",
    "plt.grid(axis='y', alpha=0.75)\n",
    "plt.xlabel('Pixel Value')\n",
    "plt.ylabel('Frequency')\n",
    "plt.title('Pixel Values after Normalization')\n",
    "plt.savefig(\"examples/normalization.jpg\")"
   ]
  },
  {
   "cell_type": "markdown",
   "metadata": {},
   "source": [
    "### Model Architecture"
   ]
  },
  {
   "cell_type": "code",
   "execution_count": 236,
   "metadata": {},
   "outputs": [],
   "source": [
    "import tensorflow as tf\n",
    "\n",
    "### HYPERPARAMETERS\n",
    "EPOCHS = 10\n",
    "BATCH_SIZE = 128\n",
    "LEARNING_RATE = 0.0014\n",
    "\n",
    "DROPOUT_PROB = 0.5  # Dropout probability to keep units\n",
    "\n",
    "# Arguments used for tf.truncated_normal, randomly defines variables for the weights and biases for each layer\n",
    "mu = 0\n",
    "sigma = 0.1"
   ]
  },
  {
   "cell_type": "code",
   "execution_count": 237,
   "metadata": {},
   "outputs": [],
   "source": [
    "from tensorflow.contrib.layers import flatten\n",
    "\n",
    "conv1 = None\n",
    "conv2 = None\n",
    "fc3 = None\n",
    "fc4 = None\n",
    "fc5 = None\n",
    "\n",
    "def LeNet(x):   \n",
    "    global conv1\n",
    "    global conv2\n",
    "    global fc3\n",
    "    global fc4\n",
    "    global fc5\n",
    "    \n",
    "    # Layer 1: Convolutional. Input = 32x32x3. Output = 28x28x12.\n",
    "    # The shape of the filter weight is (height, width, input_depth, output_depth) \n",
    "    wc1    = tf.Variable(tf.truncated_normal(shape=(5, 5, 3, 12), mean=mu, stddev=sigma))\n",
    "    bc1    = tf.Variable(tf.zeros(12))\n",
    "    conv1  = tf.nn.conv2d(x, wc1, strides=[1, 1, 1, 1], padding='VALID') + bc1\n",
    "\n",
    "    # Activation.\n",
    "    conv1  = tf.nn.relu(conv1)\n",
    "\n",
    "    # Pooling. Input = 28x28x12. Output = 14x14x12.\n",
    "    conv1  = tf.nn.max_pool(conv1, ksize=[1, 2, 2, 1], strides=[1, 2, 2, 1], padding='VALID')\n",
    "\n",
    "    # Layer 2: Convolutional. Output = 10x10x32.\n",
    "    wc2    = tf.Variable(tf.truncated_normal(shape=(5, 5, 12, 32), mean=mu, stddev=sigma))\n",
    "    bc2    = tf.Variable(tf.zeros(32))\n",
    "    conv2  = tf.nn.conv2d(conv1, wc2, strides=[1, 1, 1, 1], padding='VALID') + bc2\n",
    "    \n",
    "    # Activation.\n",
    "    conv2  = tf.nn.relu(conv2)\n",
    "\n",
    "    # Pooling. Input = 10x10x16. Output = 5x5x32.\n",
    "    conv2  = tf.nn.max_pool(conv2, ksize=[1, 2, 2, 1], strides=[1, 2, 2, 1], padding='VALID')\n",
    "\n",
    "    # Flatten. Input = 5x5x16. Output = 800.\n",
    "    fc3    = flatten(conv2)\n",
    "    \n",
    "    # Layer 3: Fully Connected. Input = 800. Output = 120.\n",
    "    wd3    = tf.Variable(tf.truncated_normal(shape=(800, 120), mean=mu, stddev=sigma))\n",
    "    bd3    = tf.Variable(tf.zeros(120))\n",
    "    fc3    = tf.matmul(fc3, wd3) + bd3\n",
    "    \n",
    "    # Activation.\n",
    "    fc3    = tf.nn.relu(fc3)\n",
    "    \n",
    "    # Dropout.\n",
    "    fc3    = tf.nn.dropout(fc3, keep_prob)\n",
    "\n",
    "    # Layer 4: Fully Connected. Input = 120. Output = 84.\n",
    "    wd4    = tf.Variable(tf.truncated_normal(shape=(120, 84), mean=mu, stddev=sigma))\n",
    "    bd4    = tf.Variable(tf.zeros(84))\n",
    "    fc4    = tf.matmul(fc3, wd4) + bd4\n",
    "    \n",
    "    # Activation.\n",
    "    fc4    = tf.nn.relu(fc4)\n",
    "    \n",
    "    # Dropout.\n",
    "    fc4    = tf.nn.dropout(fc4, keep_prob)\n",
    "\n",
    "    # Layer 5: Fully Connected. Input = 84. Output = 43.\n",
    "    wd5    = tf.Variable(tf.truncated_normal(shape=(84, n_classes), mean=mu, stddev=sigma))\n",
    "    bd5    = tf.Variable(tf.zeros(n_classes))\n",
    "    logits = tf.matmul(fc4, wd5) + bd5\n",
    "    \n",
    "    return logits"
   ]
  },
  {
   "cell_type": "markdown",
   "metadata": {},
   "source": [
    "### Train, Validate and Test the Model"
   ]
  },
  {
   "cell_type": "code",
   "execution_count": 238,
   "metadata": {},
   "outputs": [],
   "source": [
    "# Define batch variables\n",
    "x = tf.placeholder(tf.float32, (None, 32, 32, 3))\n",
    "y = tf.placeholder(tf.int32, (None))\n",
    "keep_prob = tf.placeholder(tf.float32)\n",
    "\n",
    "# One-hot encoding\n",
    "one_hot_y = tf.one_hot(y, n_classes)"
   ]
  },
  {
   "cell_type": "code",
   "execution_count": 239,
   "metadata": {},
   "outputs": [],
   "source": [
    "# Training pipeline\n",
    "logits = LeNet(x)\n",
    "cross_entropy = tf.nn.softmax_cross_entropy_with_logits(labels=one_hot_y, logits=logits)\n",
    "\n",
    "# tf.reduce_mean computes the mean of elements across dimensions of a tensor\n",
    "loss_operation = tf.reduce_mean(cross_entropy)\n",
    "\n",
    "optimizer = tf.train.AdamOptimizer(learning_rate = LEARNING_RATE)\n",
    "training_operation = optimizer.minimize(loss_operation)"
   ]
  },
  {
   "cell_type": "code",
   "execution_count": 240,
   "metadata": {},
   "outputs": [],
   "source": [
    "# Model evaluation\n",
    "correct_prediction = tf.equal(tf.argmax(logits, 1), tf.argmax(one_hot_y, 1))\n",
    "accuracy_operation = tf.reduce_mean(tf.cast(correct_prediction, tf.float32))\n",
    "saver = tf.train.Saver()\n",
    "\n",
    "def evaluate(X_valid, y_valid):\n",
    "    # Use this to accumulate accuracy values across batches\n",
    "    total_accuracy = 0\n",
    "    \n",
    "    n_valid = len(y_valid)\n",
    "    \n",
    "    sess = tf.get_default_session()\n",
    "    \n",
    "    # Create batches: offset = 0, BATCH_SIZE, 2*BATCH_SIZE, ... from validation training data X_valid\n",
    "    for offset in range(0, n_valid, BATCH_SIZE):\n",
    "        batch_x, batch_y = X_valid[offset:offset+BATCH_SIZE], y_valid[offset:offset+BATCH_SIZE]\n",
    "        accuracy = sess.run(accuracy_operation, feed_dict={x: batch_x, y: batch_y, keep_prob: 1.0})\n",
    "        total_accuracy += (accuracy * len(batch_x))\n",
    "    \n",
    "    return total_accuracy / n_valid"
   ]
  },
  {
   "cell_type": "code",
   "execution_count": 241,
   "metadata": {},
   "outputs": [
    {
     "name": "stdout",
     "output_type": "stream",
     "text": [
      "Training...\n",
      "\n",
      "EPOCH 1 ...\n",
      "Validation Accuracy = 0.725\n",
      "Training Accuracy = 0.782\n",
      "\n",
      "EPOCH 2 ...\n",
      "Validation Accuracy = 0.833\n",
      "Training Accuracy = 0.901\n",
      "\n",
      "EPOCH 3 ...\n",
      "Validation Accuracy = 0.905\n",
      "Training Accuracy = 0.957\n",
      "\n",
      "EPOCH 4 ...\n",
      "Validation Accuracy = 0.917\n",
      "Training Accuracy = 0.967\n",
      "\n",
      "EPOCH 5 ...\n",
      "Validation Accuracy = 0.929\n",
      "Training Accuracy = 0.979\n",
      "\n",
      "EPOCH 6 ...\n",
      "Validation Accuracy = 0.947\n",
      "Training Accuracy = 0.985\n",
      "\n",
      "EPOCH 7 ...\n",
      "Validation Accuracy = 0.939\n",
      "Training Accuracy = 0.987\n",
      "\n",
      "EPOCH 8 ...\n",
      "Validation Accuracy = 0.953\n",
      "Training Accuracy = 0.992\n",
      "\n",
      "EPOCH 9 ...\n",
      "Validation Accuracy = 0.955\n",
      "Training Accuracy = 0.991\n",
      "\n",
      "EPOCH 10 ...\n",
      "Validation Accuracy = 0.949\n",
      "Training Accuracy = 0.992\n",
      "\n",
      "Model saved\n"
     ]
    }
   ],
   "source": [
    "from sklearn.utils import shuffle\n",
    "\n",
    "# Model training\n",
    "# Use an interactive session so that output_feature_map can access the session variables \n",
    "sess = tf.InteractiveSession()\n",
    "sess.as_default()\n",
    "sess.run(tf.global_variables_initializer())\n",
    "\n",
    "# Save numbers for plotting some statistics\n",
    "validation_accuracy = []\n",
    "training_accuracy = []\n",
    "\n",
    "print(\"Training...\")\n",
    "print()\n",
    "\n",
    "for i in range(EPOCHS):\n",
    "    # Shuffle training data\n",
    "    X_train, y_train = shuffle(X_train, y_train)\n",
    "    \n",
    "    # Create batches: offset = 0, BATCH_SIZE, 2*BATCH_SIZE, ... from normalized training data X_train\n",
    "    for offset in range(0, n_train, BATCH_SIZE):\n",
    "        end = offset + BATCH_SIZE\n",
    "        batch_x, batch_y = X_train[offset:end], y_train[offset:end]\n",
    "        \n",
    "        # Train the model using the batches\n",
    "        sess.run(training_operation, feed_dict={x: batch_x, y: batch_y, keep_prob: DROPOUT_PROB})\n",
    "\n",
    "    # Model evaluation using validation data\n",
    "    validation_accuracy.append(evaluate(X_valid, y_valid))\n",
    "    training_accuracy.append(evaluate(X_train, y_train))\n",
    "    \n",
    "    # Print statistics\n",
    "    print(\"EPOCH {} ...\".format(i + 1))\n",
    "    print(\"Validation Accuracy = {:.3f}\".format(validation_accuracy[i]))\n",
    "    print(\"Training Accuracy = {:.3f}\".format(training_accuracy[i]))\n",
    "    print()\n",
    "\n",
    "saver.save(sess, './lenet')\n",
    "print(\"Model saved\")"
   ]
  },
  {
   "cell_type": "code",
   "execution_count": 242,
   "metadata": {},
   "outputs": [
    {
     "data": {
      "image/png": "[encoded data removed]",
      "text/plain": [
       "<Figure size 720x360 with 1 Axes>"
      ]
     },
     "metadata": {},
     "output_type": "display_data"
    }
   ],
   "source": [
    "# Show some statistics\n",
    "\n",
    "plt.style.use('seaborn') # pretty matplotlib plots\n",
    "plt.rcParams['figure.figsize'] = (10, 5)\n",
    "\n",
    "figure = plt.subplot(1,1,1)\n",
    "figure.set_title(\"Model Performance\", fontsize=18)\n",
    "figure.plot(range(len(training_accuracy)), training_accuracy, 'r', label='Training Accuracy')\n",
    "figure.plot(range(len(training_accuracy)), validation_accuracy, 'b', label='Validation Accuracy')\n",
    "figure.plot(range(len(training_accuracy)), [0.93]*10, '--')\n",
    "figure.set_ylim([0, 1.1])\n",
    "figure.set_xlim([0, 9])\n",
    "figure.set_ylabel(\"Accuracy\")\n",
    "figure.set_xlabel(\"Epoch\")\n",
    "figure.legend(loc=4)\n",
    "\n",
    "plt.show()"
   ]
  },
  {
   "cell_type": "code",
   "execution_count": 243,
   "metadata": {},
   "outputs": [
    {
     "name": "stdout",
     "output_type": "stream",
     "text": [
      "INFO:tensorflow:Restoring parameters from ./lenet\n",
      "Test Accuracy = 0.939\n"
     ]
    }
   ],
   "source": [
    "# Test the model on test data\n",
    "with tf.Session() as sess:\n",
    "    saver.restore(sess, tf.train.latest_checkpoint('.'))\n",
    "\n",
    "    test_accuracy = evaluate(X_test, y_test)\n",
    "    print(\"Test Accuracy = {:.3f}\".format(test_accuracy))"
   ]
  },
  {
   "cell_type": "markdown",
   "metadata": {},
   "source": [
    "---\n",
    "\n",
    "## Step 3: Test a Model on New Images\n",
    "\n",
    "The performance of the model is tested on images showing German traffic signs that were downloaded from the web."
   ]
  },
  {
   "cell_type": "markdown",
   "metadata": {},
   "source": [
    "### Load and Output the Images"
   ]
  },
  {
   "cell_type": "code",
   "execution_count": 244,
   "metadata": {},
   "outputs": [
    {
     "data": {
      "image/png": "[encoded data removed]",
      "text/plain": [
       "<Figure size 720x720 with 5 Axes>"
      ]
     },
     "metadata": {},
     "output_type": "display_data"
    }
   ],
   "source": [
    "### Load and plot images\n",
    "\n",
    "import cv2\n",
    "import glob\n",
    "import matplotlib.image as mpimg\n",
    "\n",
    "# Make a list of the images\n",
    "images = glob.glob('signs/sign*.jpg')\n",
    "\n",
    "X_test_own = np.ndarray(shape=(len(images),32,32,3), dtype=int)\n",
    "y_test_own = np.ndarray((len(images),), dtype=int)\n",
    "\n",
    "# Manually label images\n",
    "y_test_own[0] = 25\n",
    "y_test_own[1] = 25\n",
    "y_test_own[2] = 21\n",
    "y_test_own[3] = 19\n",
    "y_test_own[4] = 36\n",
    "\n",
    "f, axes = plt.subplots(1, len(images), figsize=(10,10))\n",
    "\n",
    "for idx, fname in enumerate(sorted(images)):\n",
    "    image = mpimg.imread(fname)\n",
    "    image = cv2.resize(image, dsize=(32, 32))\n",
    "    X_test_own[idx] = image\n",
    "    axes[idx].imshow(X_test_own[idx])\n",
    "    axes[idx].tick_params(bottom=False, left=False)\n",
    "    axes[idx].set_yticklabels([])\n",
    "    axes[idx].set_xticklabels([])\n",
    "\n",
    "# Normalize\n",
    "X_test_own = (X_test_own - 128.0) / 128"
   ]
  },
  {
   "cell_type": "markdown",
   "metadata": {},
   "source": [
    "### Predict the Sign Type for Each Image"
   ]
  },
  {
   "cell_type": "code",
   "execution_count": 245,
   "metadata": {},
   "outputs": [
    {
     "name": "stdout",
     "output_type": "stream",
     "text": [
      "INFO:tensorflow:Restoring parameters from ./lenet\n"
     ]
    }
   ],
   "source": [
    "### Run predictions and use model to output prediction for each image\n",
    "\n",
    "prediction_operation = tf.nn.softmax(logits)\n",
    "\n",
    "prediction = None\n",
    "\n",
    "sess = tf.InteractiveSession()\n",
    "sess.as_default()\n",
    "\n",
    "saver.restore(sess, tf.train.latest_checkpoint('.'))\n",
    "prediction = sess.run(prediction_operation, feed_dict={x: X_test_own, keep_prob: 1.0})"
   ]
  },
  {
   "cell_type": "code",
   "execution_count": 246,
   "metadata": {},
   "outputs": [
    {
     "name": "stdout",
     "output_type": "stream",
     "text": [
      "Predictions:  [25, 21, 21, 19, 36]\n"
     ]
    }
   ],
   "source": [
    "max_prediction = [np.argmax(prediction[i]) for i in range(len(prediction))]\n",
    "\n",
    "print(\"Predictions: \", max_prediction)"
   ]
  },
  {
   "cell_type": "markdown",
   "metadata": {},
   "source": [
    "### Analyze Performance"
   ]
  },
  {
   "cell_type": "code",
   "execution_count": 247,
   "metadata": {},
   "outputs": [
    {
     "name": "stdout",
     "output_type": "stream",
     "text": [
      "Accuracy for new images = 0.800\n"
     ]
    }
   ],
   "source": [
    "### Calculate accuracy for new images\n",
    "accuracy = 0\n",
    "\n",
    "accuracy = sess.run(accuracy_operation, feed_dict={x: X_test_own, y: y_test_own, keep_prob: 1.0})\n",
    "    \n",
    "print(\"Accuracy for new images = {:.3f}\".format(accuracy))"
   ]
  },
  {
   "cell_type": "markdown",
   "metadata": {},
   "source": [
    "### Output Top 5 Softmax Probabilities For Each Image"
   ]
  },
  {
   "cell_type": "markdown",
   "metadata": {},
   "source": [
    "For each of the new images, the top 5 softmax probabilities are printed to show the **certainty** of the predictions as made by the model."
   ]
  },
  {
   "cell_type": "code",
   "execution_count": 248,
   "metadata": {},
   "outputs": [
    {
     "name": "stdout",
     "output_type": "stream",
     "text": [
      "Top 5 probabilities for image #1: \n",
      "1.00000  Road work\n",
      "0.00000  Dangerous curve to the right\n",
      "0.00000  Bumpy road\n",
      "0.00000  Bicycles crossing\n",
      "0.00000  Beware of ice/snow\n",
      "\n",
      "\n",
      "Top 5 probabilities for image #2: \n",
      "0.63891  Double curve\n",
      "0.32089  Road work\n",
      "0.03589  Beware of ice/snow\n",
      "0.00235  Wild animals crossing\n",
      "0.00184  Right-of-way at the next intersection\n",
      "\n",
      "\n",
      "Top 5 probabilities for image #3: \n",
      "0.99546  Double curve\n",
      "0.00454  Wild animals crossing\n",
      "0.00000  Dangerous curve to the left\n",
      "0.00000  Slippery road\n",
      "0.00000  Road work\n",
      "\n",
      "\n",
      "Top 5 probabilities for image #4: \n",
      "0.99013  Dangerous curve to the left\n",
      "0.00707  Double curve\n",
      "0.00276  Slippery road\n",
      "0.00004  Wild animals crossing\n",
      "0.00000  No passing\n",
      "\n",
      "\n",
      "Top 5 probabilities for image #5: \n",
      "0.99999  Go straight or right\n",
      "0.00001  Keep right\n",
      "0.00000  Turn left ahead\n",
      "0.00000  Keep left\n",
      "0.00000  Turn right ahead\n",
      "\n",
      "\n"
     ]
    }
   ],
   "source": [
    "### Print out top five softmax probabilities for predictions on German traffic sign images found on the web\n",
    "\n",
    "probabilities = sess.run(tf.nn.top_k(tf.constant(prediction), k=5))\n",
    "\n",
    "for i in range(len(images)):\n",
    "    print(\"Top 5 probabilities for image #{}: \".format(i + 1))\n",
    "    for j in range(len(images)):\n",
    "        print(\"{:.5f} \".format(probabilities[0][i][j]), signs[probabilities[1][i][j]])\n",
    "    print()\n",
    "    print()"
   ]
  },
  {
   "cell_type": "markdown",
   "metadata": {},
   "source": [
    "---\n",
    "\n",
    "## Step 4: Visualize the Neural Network's State with Test Images\n",
    "\n",
    "The following code based on [this post](https://medium.com/@awjuliani/visualizing-neural-network-layer-activation-tensorflow-tutorial-d45f8bf7bbc4). It visualizes the hidden layers of the Neural Network."
   ]
  },
  {
   "cell_type": "code",
   "execution_count": 249,
   "metadata": {},
   "outputs": [],
   "source": [
    "import math\n",
    "\n",
    "def get_activations(layer, stimuli):\n",
    "    units = sess.run(layer, feed_dict={x: np.reshape(stimuli, (1, 32, 32, 3)), keep_prob: 1.0})\n",
    "    plot_filter(units)\n",
    "    \n",
    "def plot_filter(units):\n",
    "    filters = units.shape[3]\n",
    "    # plt.figure(1, figsize=(20,10))\n",
    "    plt.figure(1)\n",
    "    \n",
    "    n_columns = 6\n",
    "    n_rows = math.ceil(filters / n_columns) + 1\n",
    "    \n",
    "    for i in range(filters):\n",
    "        plt.subplot(n_rows, n_columns, i+1)\n",
    "        plt.xticks([])\n",
    "        plt.yticks([])\n",
    "        plt.imshow(units[0,:,:,i], interpolation=\"nearest\", cmap=\"gray\")"
   ]
  },
  {
   "cell_type": "code",
   "execution_count": 250,
   "metadata": {},
   "outputs": [
    {
     "name": "stderr",
     "output_type": "stream",
     "text": [
      "Clipping input data to the valid range for imshow with RGB data ([0..1] for floats or [0..255] for integers).\n"
     ]
    },
    {
     "data": {
      "text/plain": [
       "([], <a list of 0 Text yticklabel objects>)"
      ]
     },
     "execution_count": 250,
     "metadata": {},
     "output_type": "execute_result"
    },
    {
     "data": {
      "image/png": "[encoded data removed]",
      "text/plain": [
       "<Figure size 720x360 with 1 Axes>"
      ]
     },
     "metadata": {},
     "output_type": "display_data"
    }
   ],
   "source": [
    "test_image = X_test_own[4]\n",
    "plt.imshow(test_image)\n",
    "plt.xticks([])\n",
    "plt.yticks([])"
   ]
  },
  {
   "cell_type": "code",
   "execution_count": 251,
   "metadata": {},
   "outputs": [
    {
     "data": {
      "image/png": "[encoded data removed]",
      "text/plain": [
       "<Figure size 720x360 with 12 Axes>"
      ]
     },
     "metadata": {},
     "output_type": "display_data"
    }
   ],
   "source": [
    "# Plot first convolutional layer\n",
    "get_activations(conv1, test_image)"
   ]
  },
  {
   "cell_type": "code",
   "execution_count": 252,
   "metadata": {},
   "outputs": [
    {
     "data": {
      "image/png": "[encoded data removed]",
      "text/plain": [
       "<Figure size 720x360 with 32 Axes>"
      ]
     },
     "metadata": {},
     "output_type": "display_data"
    }
   ],
   "source": [
    "# Plot second convolutional layer\n",
    "get_activations(conv2, test_image)"
   ]
  }
 ],
 "metadata": {
  "anaconda-cloud": {},
  "kernelspec": {
   "display_name": "Python 3",
   "language": "python",
   "name": "python3"
  },
  "language_info": {
   "codemirror_mode": {
    "name": "ipython",
    "version": 3
   },
   "file_extension": ".py",
   "mimetype": "text/x-python",
   "name": "python",
   "nbconvert_exporter": "python",
   "pygments_lexer": "ipython3",
   "version": "3.5.2"
  },
  "widgets": {
   "state": {},
   "version": "1.1.2"
  }
 },
 "nbformat": 4,
 "nbformat_minor": 1
}
